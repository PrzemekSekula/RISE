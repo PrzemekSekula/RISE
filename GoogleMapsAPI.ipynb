{
 "cells": [
  {
   "cell_type": "code",
   "execution_count": 1,
   "metadata": {},
   "outputs": [],
   "source": [
    "import configs.GoogleMapsAPI as gmaps\n",
    "import pandas as pd\n",
    "import requests"
   ]
  },
  {
   "cell_type": "code",
   "execution_count": 2,
   "metadata": {},
   "outputs": [],
   "source": [
    "URL = \"https://maps.googleapis.com/maps/api/elevation/json?locations={}&key=\" + gmaps.APIKEY\n"
   ]
  },
  {
   "cell_type": "code",
   "execution_count": 3,
   "metadata": {},
   "outputs": [],
   "source": [
    "def get_elevations(geocoordinates):\n",
    "    \n",
    "    locations = None\n",
    "    for coordinate in geocoordinates:\n",
    "        lat, lon = coordinate\n",
    "        if locations is None:\n",
    "            locations = f'{lat}%2C{lon}'\n",
    "        else:\n",
    "            locations = f'{locations}%7C{lat}%2C{lon}'\n",
    "        \n",
    "    url = URL.format(locations)\n",
    "    #print (url)\n",
    "    payload={}\n",
    "    headers = {}\n",
    "\n",
    "    response = requests.request(\"GET\", url, headers=headers, data=payload)\n",
    "    return response"
   ]
  },
  {
   "cell_type": "code",
   "execution_count": 4,
   "metadata": {},
   "outputs": [],
   "source": [
    "if False:\n",
    "    locations = [\n",
    "        [40.714728, -73.998672],\n",
    "        [40.71, -73.9983],\n",
    "    ]\n",
    "\n",
    "    response = get_elevations(locations)\n",
    "    print (response.text)"
   ]
  },
  {
   "cell_type": "code",
   "execution_count": 5,
   "metadata": {},
   "outputs": [
    {
     "name": "stdout",
     "output_type": "stream",
     "text": [
      "(13040, 19)\n",
      "Index(['Counter', 'date', 'latitude', 'longitude', 'elevation',\n",
      "       'Elevation (ft)', 'planar_deviation', 'Planar Deviation (ft)',\n",
      "       'Planar Deviation (in)', 'block_length', 'z_range', 'FRA_DB#',\n",
      "       'railroad', 'MP', 'street', 'city', 'state', 'angle_range',\n",
      "       'lowgc_signs#'],\n",
      "      dtype='object')\n"
     ]
    },
    {
     "data": {
      "text/html": [
       "<div>\n",
       "<style scoped>\n",
       "    .dataframe tbody tr th:only-of-type {\n",
       "        vertical-align: middle;\n",
       "    }\n",
       "\n",
       "    .dataframe tbody tr th {\n",
       "        vertical-align: top;\n",
       "    }\n",
       "\n",
       "    .dataframe thead th {\n",
       "        text-align: right;\n",
       "    }\n",
       "</style>\n",
       "<table border=\"1\" class=\"dataframe\">\n",
       "  <thead>\n",
       "    <tr style=\"text-align: right;\">\n",
       "      <th></th>\n",
       "      <th>Counter</th>\n",
       "      <th>date</th>\n",
       "      <th>latitude</th>\n",
       "      <th>longitude</th>\n",
       "      <th>elevation</th>\n",
       "      <th>Elevation (ft)</th>\n",
       "      <th>planar_deviation</th>\n",
       "      <th>Planar Deviation (ft)</th>\n",
       "      <th>Planar Deviation (in)</th>\n",
       "      <th>block_length</th>\n",
       "      <th>z_range</th>\n",
       "      <th>FRA_DB#</th>\n",
       "      <th>railroad</th>\n",
       "      <th>MP</th>\n",
       "      <th>street</th>\n",
       "      <th>city</th>\n",
       "      <th>state</th>\n",
       "      <th>angle_range</th>\n",
       "      <th>lowgc_signs#</th>\n",
       "    </tr>\n",
       "  </thead>\n",
       "  <tbody>\n",
       "    <tr>\n",
       "      <th>0</th>\n",
       "      <td>1</td>\n",
       "      <td>20191216</td>\n",
       "      <td>38.525221</td>\n",
       "      <td>-78.585675</td>\n",
       "      <td>271.100000</td>\n",
       "      <td>889.435695</td>\n",
       "      <td>2.644013</td>\n",
       "      <td>8.674583</td>\n",
       "      <td>104.094999</td>\n",
       "      <td>0.000000</td>\n",
       "      <td>17.677264</td>\n",
       "      <td>468728T</td>\n",
       "      <td>NS</td>\n",
       "      <td>101.4</td>\n",
       "      <td>COLD SPRINGS DRIVE</td>\n",
       "      <td>SHENANDOAH</td>\n",
       "      <td>VA</td>\n",
       "      <td>NaN</td>\n",
       "      <td>NaN</td>\n",
       "    </tr>\n",
       "    <tr>\n",
       "      <th>1</th>\n",
       "      <td>2</td>\n",
       "      <td>20191213</td>\n",
       "      <td>37.205641</td>\n",
       "      <td>-80.293657</td>\n",
       "      <td>410.906915</td>\n",
       "      <td>1348.119799</td>\n",
       "      <td>2.445426</td>\n",
       "      <td>8.023050</td>\n",
       "      <td>96.276599</td>\n",
       "      <td>0.186293</td>\n",
       "      <td>6.093171</td>\n",
       "      <td>469500W</td>\n",
       "      <td>NS</td>\n",
       "      <td>267.6</td>\n",
       "      <td>NaN</td>\n",
       "      <td>NaN</td>\n",
       "      <td>VA</td>\n",
       "      <td>NaN</td>\n",
       "      <td>NaN</td>\n",
       "    </tr>\n",
       "    <tr>\n",
       "      <th>2</th>\n",
       "      <td>3</td>\n",
       "      <td>20191216</td>\n",
       "      <td>38.805243</td>\n",
       "      <td>-78.349207</td>\n",
       "      <td>208.500000</td>\n",
       "      <td>684.055118</td>\n",
       "      <td>2.403641</td>\n",
       "      <td>7.885960</td>\n",
       "      <td>94.631524</td>\n",
       "      <td>0.123313</td>\n",
       "      <td>14.993995</td>\n",
       "      <td>468667E</td>\n",
       "      <td>NS</td>\n",
       "      <td>75.5</td>\n",
       "      <td>overall road</td>\n",
       "      <td>BENTONVILLE</td>\n",
       "      <td>VA</td>\n",
       "      <td>NaN</td>\n",
       "      <td>NaN</td>\n",
       "    </tr>\n",
       "    <tr>\n",
       "      <th>3</th>\n",
       "      <td>4</td>\n",
       "      <td>20191216</td>\n",
       "      <td>39.459869</td>\n",
       "      <td>-77.764867</td>\n",
       "      <td>141.755539</td>\n",
       "      <td>465.077226</td>\n",
       "      <td>2.352856</td>\n",
       "      <td>7.719344</td>\n",
       "      <td>92.632125</td>\n",
       "      <td>0.398835</td>\n",
       "      <td>32.190927</td>\n",
       "      <td>469335N</td>\n",
       "      <td>NS</td>\n",
       "      <td>13.4</td>\n",
       "      <td>SNYDERS LNDG RD</td>\n",
       "      <td>ST JAMES</td>\n",
       "      <td>MD</td>\n",
       "      <td>NaN</td>\n",
       "      <td>NaN</td>\n",
       "    </tr>\n",
       "    <tr>\n",
       "      <th>4</th>\n",
       "      <td>5</td>\n",
       "      <td>20200109</td>\n",
       "      <td>36.746844</td>\n",
       "      <td>-83.690274</td>\n",
       "      <td>320.404333</td>\n",
       "      <td>1051.195317</td>\n",
       "      <td>2.323092</td>\n",
       "      <td>7.621693</td>\n",
       "      <td>91.460315</td>\n",
       "      <td>0.000000</td>\n",
       "      <td>10.391219</td>\n",
       "      <td>344961H</td>\n",
       "      <td>CSX</td>\n",
       "      <td>204.36</td>\n",
       "      <td>PUBLIC ROAD</td>\n",
       "      <td>CARRIGAN</td>\n",
       "      <td>KY</td>\n",
       "      <td>NaN</td>\n",
       "      <td>NaN</td>\n",
       "    </tr>\n",
       "  </tbody>\n",
       "</table>\n",
       "</div>"
      ],
      "text/plain": [
       "   Counter      date   latitude  longitude   elevation  Elevation (ft)  \\\n",
       "0        1  20191216  38.525221 -78.585675  271.100000      889.435695   \n",
       "1        2  20191213  37.205641 -80.293657  410.906915     1348.119799   \n",
       "2        3  20191216  38.805243 -78.349207  208.500000      684.055118   \n",
       "3        4  20191216  39.459869 -77.764867  141.755539      465.077226   \n",
       "4        5  20200109  36.746844 -83.690274  320.404333     1051.195317   \n",
       "\n",
       "   planar_deviation  Planar Deviation (ft)  Planar Deviation (in)  \\\n",
       "0          2.644013               8.674583             104.094999   \n",
       "1          2.445426               8.023050              96.276599   \n",
       "2          2.403641               7.885960              94.631524   \n",
       "3          2.352856               7.719344              92.632125   \n",
       "4          2.323092               7.621693              91.460315   \n",
       "\n",
       "   block_length    z_range  FRA_DB# railroad      MP              street  \\\n",
       "0      0.000000  17.677264  468728T       NS   101.4  COLD SPRINGS DRIVE   \n",
       "1      0.186293   6.093171  469500W       NS   267.6                 NaN   \n",
       "2      0.123313  14.993995  468667E       NS    75.5        overall road   \n",
       "3      0.398835  32.190927  469335N       NS    13.4     SNYDERS LNDG RD   \n",
       "4      0.000000  10.391219  344961H      CSX  204.36         PUBLIC ROAD   \n",
       "\n",
       "          city state angle_range  lowgc_signs#  \n",
       "0   SHENANDOAH   VA          NaN           NaN  \n",
       "1          NaN   VA          NaN           NaN  \n",
       "2  BENTONVILLE   VA          NaN           NaN  \n",
       "3     ST JAMES   MD          NaN           NaN  \n",
       "4     CARRIGAN   KY          NaN           NaN  "
      ]
     },
     "execution_count": 5,
     "metadata": {},
     "output_type": "execute_result"
    }
   ],
   "source": [
    "rawdf = pd.read_csv('./data/Elevation/HumpedCrossing.csv')\n",
    "print (rawdf.shape)\n",
    "print (rawdf.columns)\n",
    "rawdf.head()"
   ]
  },
  {
   "cell_type": "code",
   "execution_count": 6,
   "metadata": {},
   "outputs": [],
   "source": [
    "def get_elevation(df):\n",
    "    \"\"\" Gets elevations for a dataframe based on latitude and longitude columns\n",
    "    Args:\n",
    "        df (pandas.DataFrame): input dataframe\n",
    "\n",
    "    Returns:\n",
    "        (DataFrame, response):\n",
    "            DataFrame: input dataframe with GoogleElevation and GoogleResolution columns\n",
    "            response: response from Google Maps API\n",
    "    \"\"\"\n",
    "    locations = list(zip(df.latitude, df.longitude))\n",
    "    response = get_elevations(locations)\n",
    "    df['GoogleElevation'] = [x['elevation'] for x in response.json()['results']]\n",
    "    df['GoogleResolution'] = [x['resolution'] for x in response.json()['results']]\n",
    "    return df, response"
   ]
  },
  {
   "cell_type": "code",
   "execution_count": 12,
   "metadata": {},
   "outputs": [
    {
     "name": "stdout",
     "output_type": "stream",
     "text": [
      "Processing row 13312/13040.\r"
     ]
    }
   ],
   "source": [
    "i = 0\n",
    "while i < len(rawdf):\n",
    "    tmp = rawdf.iloc[i:i+512].copy()\n",
    "    tmp, response = get_elevation(tmp)\n",
    "    if i == 0:\n",
    "        df = tmp\n",
    "    else:\n",
    "        df = pd.concat([df, tmp])\n",
    "    i += 512\n",
    "    print (f'Processing row {i}/{len(rawdf)}.\\r', end='')\n",
    "\n",
    "df.to_csv('./data/Elevation/HumpedCrossingGoogleElevation.csv', index=False)\n"
   ]
  },
  {
   "cell_type": "code",
   "execution_count": 15,
   "metadata": {},
   "outputs": [
    {
     "data": {
      "text/html": [
       "<div>\n",
       "<style scoped>\n",
       "    .dataframe tbody tr th:only-of-type {\n",
       "        vertical-align: middle;\n",
       "    }\n",
       "\n",
       "    .dataframe tbody tr th {\n",
       "        vertical-align: top;\n",
       "    }\n",
       "\n",
       "    .dataframe thead th {\n",
       "        text-align: right;\n",
       "    }\n",
       "</style>\n",
       "<table border=\"1\" class=\"dataframe\">\n",
       "  <thead>\n",
       "    <tr style=\"text-align: right;\">\n",
       "      <th></th>\n",
       "      <th>elevation</th>\n",
       "      <th>GoogleElevation</th>\n",
       "      <th>ElevationDiff</th>\n",
       "      <th>ElevationDiffAbs</th>\n",
       "    </tr>\n",
       "  </thead>\n",
       "  <tbody>\n",
       "    <tr>\n",
       "      <th>count</th>\n",
       "      <td>13040.000000</td>\n",
       "      <td>13040.000000</td>\n",
       "      <td>13040.000000</td>\n",
       "      <td>13040.000000</td>\n",
       "    </tr>\n",
       "    <tr>\n",
       "      <th>mean</th>\n",
       "      <td>329.048797</td>\n",
       "      <td>337.948453</td>\n",
       "      <td>-8.899656</td>\n",
       "      <td>15.302788</td>\n",
       "    </tr>\n",
       "    <tr>\n",
       "      <th>std</th>\n",
       "      <td>354.906004</td>\n",
       "      <td>359.081754</td>\n",
       "      <td>30.585896</td>\n",
       "      <td>27.937676</td>\n",
       "    </tr>\n",
       "    <tr>\n",
       "      <th>min</th>\n",
       "      <td>-1.300000</td>\n",
       "      <td>-41.918465</td>\n",
       "      <td>-462.099793</td>\n",
       "      <td>0.000089</td>\n",
       "    </tr>\n",
       "    <tr>\n",
       "      <th>25%</th>\n",
       "      <td>114.100000</td>\n",
       "      <td>115.049194</td>\n",
       "      <td>-10.319848</td>\n",
       "      <td>2.847165</td>\n",
       "    </tr>\n",
       "    <tr>\n",
       "      <th>50%</th>\n",
       "      <td>214.600000</td>\n",
       "      <td>219.800751</td>\n",
       "      <td>0.336307</td>\n",
       "      <td>6.385711</td>\n",
       "    </tr>\n",
       "    <tr>\n",
       "      <th>75%</th>\n",
       "      <td>376.225000</td>\n",
       "      <td>398.498863</td>\n",
       "      <td>5.079568</td>\n",
       "      <td>14.382701</td>\n",
       "    </tr>\n",
       "    <tr>\n",
       "      <th>max</th>\n",
       "      <td>2210.870835</td>\n",
       "      <td>2263.018066</td>\n",
       "      <td>51.607355</td>\n",
       "      <td>462.099793</td>\n",
       "    </tr>\n",
       "  </tbody>\n",
       "</table>\n",
       "</div>"
      ],
      "text/plain": [
       "          elevation  GoogleElevation  ElevationDiff  ElevationDiffAbs\n",
       "count  13040.000000     13040.000000   13040.000000      13040.000000\n",
       "mean     329.048797       337.948453      -8.899656         15.302788\n",
       "std      354.906004       359.081754      30.585896         27.937676\n",
       "min       -1.300000       -41.918465    -462.099793          0.000089\n",
       "25%      114.100000       115.049194     -10.319848          2.847165\n",
       "50%      214.600000       219.800751       0.336307          6.385711\n",
       "75%      376.225000       398.498863       5.079568         14.382701\n",
       "max     2210.870835      2263.018066      51.607355        462.099793"
      ]
     },
     "execution_count": 15,
     "metadata": {},
     "output_type": "execute_result"
    }
   ],
   "source": [
    "df['ElevationDiff'] = df.elevation - df.GoogleElevation\n",
    "df['ElevationDiffAbs'] = df.ElevationDiff.abs()\n",
    "df[['elevation', 'GoogleElevation', 'ElevationDiff', 'ElevationDiffAbs']].describe()"
   ]
  },
  {
   "cell_type": "code",
   "execution_count": 26,
   "metadata": {},
   "outputs": [
    {
     "data": {
      "text/plain": [
       "<AxesSubplot:ylabel='Frequency'>"
      ]
     },
     "execution_count": 26,
     "metadata": {},
     "output_type": "execute_result"
    },
    {
     "data": {
      "image/png": "[encoded data removed]",
      "text/plain": [
       "<Figure size 432x288 with 1 Axes>"
      ]
     },
     "metadata": {
      "needs_background": "light"
     },
     "output_type": "display_data"
    }
   ],
   "source": [
    "df.ElevationDiff.plot.hist(bins=100, xlim=(-100, 50))"
   ]
  },
  {
   "cell_type": "code",
   "execution_count": 25,
   "metadata": {},
   "outputs": [
    {
     "data": {
      "text/plain": [
       "<AxesSubplot:>"
      ]
     },
     "execution_count": 25,
     "metadata": {},
     "output_type": "execute_result"
    },
    {
     "data": {
      "image/png": "[encoded data removed]",
      "text/plain": [
       "<Figure size 432x288 with 1 Axes>"
      ]
     },
     "metadata": {
      "needs_background": "light"
     },
     "output_type": "display_data"
    }
   ],
   "source": [
    "df.ElevationDiff.plot.box(showfliers=False, whis=0.95)"
   ]
  },
  {
   "cell_type": "code",
   "execution_count": null,
   "metadata": {},
   "outputs": [],
   "source": [
    "print(response.text)"
   ]
  },
  {
   "cell_type": "code",
   "execution_count": null,
   "metadata": {},
   "outputs": [],
   "source": []
  }
 ],
 "metadata": {
  "kernelspec": {
   "display_name": "base",
   "language": "python",
   "name": "python3"
  },
  "language_info": {
   "codemirror_mode": {
    "name": "ipython",
    "version": 3
   },
   "file_extension": ".py",
   "mimetype": "text/x-python",
   "name": "python",
   "nbconvert_exporter": "python",
   "pygments_lexer": "ipython3",
   "version": "3.9.12"
  },
  "orig_nbformat": 4,
  "vscode": {
   "interpreter": {
    "hash": "116f0d98ee075869b5dc9f458adbcef3f5ec480ac835205e10bc39137d90951d"
   }
  }
 },
 "nbformat": 4,
 "nbformat_minor": 2
}
