{
 "cells": [
  {
   "attachments": {},
   "cell_type": "markdown",
   "metadata": {},
   "source": [
    "# Initial EDA\n",
    "This notebook prepares preports for `Crossing Inventory` Data and `Highway Rail Grade Crossing Accident Data`\n",
    "\n",
    "### Highway Rail Grade Crossing Accident Data"
   ]
  },
  {
   "cell_type": "code",
   "execution_count": 2,
   "metadata": {},
   "outputs": [],
   "source": [
    "import pandas as pd\n",
    "import numpy as np\n",
    "#import pandas_profiling\n",
    "from pandas_profiling import ProfileReport"
   ]
  },
  {
   "cell_type": "code",
   "execution_count": null,
   "metadata": {},
   "outputs": [],
   "source": [
    "df_raw = pd.read_csv('data/Highway-Rail_Grade_Crossing_Accident_Data.csv', low_memory=False)\n",
    "print (df_raw.shape)\n",
    "print (df_raw.columns)\n",
    "df_raw.head()"
   ]
  },
  {
   "cell_type": "code",
   "execution_count": null,
   "metadata": {},
   "outputs": [],
   "source": [
    "tmp = df_raw.isnull().sum().sort_values(ascending=False)\n",
    "tmp.shape"
   ]
  },
  {
   "cell_type": "code",
   "execution_count": null,
   "metadata": {},
   "outputs": [],
   "source": [
    "important = tmp[tmp<len(df_raw)/2].index\n",
    "important = list(tmp[tmp<1000].index)\n",
    "print (len(important))\n",
    "print (sorted(important))"
   ]
  },
  {
   "cell_type": "code",
   "execution_count": null,
   "metadata": {},
   "outputs": [],
   "source": [
    "to_remove = [\n",
    "    'Incident Number', 'Report Key', 'Url',\n",
    "    \n",
    "    'Crossing Warning Expanded Code 12', 'Equipment Involved Code',\n",
    "    'Equipment Struck Code', 'Equipment Type Code', \n",
    "    'Hazmat Involvement Code', 'Highway User Code', \n",
    "    'Highway User Position Code', 'Public/Private Code',\n",
    "    'Railroad Code', 'Reporting Parent Railroad Code',\n",
    "    'State Code', 'Track Type Code',\n",
    "    'View Obstruction Code', 'Visibility Code', 'Weather Condition Code'\n",
    "    ]\n",
    "important = list(set(important) - set(to_remove))\n",
    "print (important)"
   ]
  },
  {
   "cell_type": "code",
   "execution_count": null,
   "metadata": {},
   "outputs": [],
   "source": [
    "df = df_raw[important]\n",
    "df.head()"
   ]
  },
  {
   "cell_type": "code",
   "execution_count": null,
   "metadata": {},
   "outputs": [],
   "source": [
    "profile = ProfileReport(df)\n",
    "profile.to_file(output_file='reports/AccidentReport.html')"
   ]
  },
  {
   "attachments": {},
   "cell_type": "markdown",
   "metadata": {},
   "source": [
    "### Dataset Crossing_Inventory_Data_-_Current"
   ]
  },
  {
   "cell_type": "code",
   "execution_count": null,
   "metadata": {},
   "outputs": [],
   "source": [
    "df_raw = pd.read_csv('./data/Crossing_Inventory_Data_-_Current.csv', low_memory=False)\n",
    "print (df_raw.shape)\n",
    "print (df_raw.columns)\n",
    "df_raw.head()"
   ]
  },
  {
   "cell_type": "code",
   "execution_count": null,
   "metadata": {},
   "outputs": [],
   "source": [
    "tmp = df_raw.isnull().sum().sort_values(ascending=False)\n",
    "tmp.shape\n"
   ]
  },
  {
   "cell_type": "code",
   "execution_count": null,
   "metadata": {},
   "outputs": [],
   "source": [
    "important = tmp[tmp<len(df_raw)/2].index\n",
    "important = list(tmp[tmp<10000].index)\n",
    "print (len(important))\n",
    "print (sorted(important))"
   ]
  },
  {
   "cell_type": "code",
   "execution_count": null,
   "metadata": {},
   "outputs": [],
   "source": [
    "to_remove = [\n",
    "    'Url', 'State Contact Telephone Number',\n",
    "    \n",
    "    'City Code', 'County Code', 'Crossing Position Code ', \n",
    "    'Crossing Purpose Code ', 'Crossing Type Code ', 'In/Near Code  ',\n",
    "    'Parent Railroad/Company Code', 'Railroad Code', 'Reason Code  ',\n",
    "    'Reporting Agency Code  ',\n",
    "    'Reporting Agency Type ID  ',\n",
    "    'State Code',\n",
    "    ]\n",
    "important = list(set(important) - set(to_remove))\n",
    "print (important)\n",
    "#print (sorted(important))"
   ]
  },
  {
   "cell_type": "code",
   "execution_count": null,
   "metadata": {},
   "outputs": [],
   "source": [
    "df = df_raw[important]\n",
    "print (df.shape)\n",
    "df.head()"
   ]
  },
  {
   "cell_type": "code",
   "execution_count": null,
   "metadata": {},
   "outputs": [],
   "source": [
    "profile = ProfileReport(df)\n",
    "profile.to_file(output_file='reports/CrossingInventoryReport.html')"
   ]
  },
  {
   "cell_type": "code",
   "execution_count": null,
   "metadata": {},
   "outputs": [],
   "source": []
  }
 ],
 "metadata": {
  "kernelspec": {
   "display_name": "rise",
   "language": "python",
   "name": "python3"
  },
  "language_info": {
   "codemirror_mode": {
    "name": "ipython",
    "version": 3
   },
   "file_extension": ".py",
   "mimetype": "text/x-python",
   "name": "python",
   "nbconvert_exporter": "python",
   "pygments_lexer": "ipython3",
   "version": "3.9.12 (main, Apr  4 2022, 05:22:27) [MSC v.1916 64 bit (AMD64)]"
  },
  "orig_nbformat": 4,
  "vscode": {
   "interpreter": {
    "hash": "32dd9f3de737dd316105e68fd0c0ea8933bebcd968e492d0e0ab7a4523c00b7d"
   }
  }
 },
 "nbformat": 4,
 "nbformat_minor": 2
}
