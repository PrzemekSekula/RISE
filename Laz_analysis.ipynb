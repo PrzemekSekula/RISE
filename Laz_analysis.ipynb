{
 "cells": [
  {
   "cell_type": "code",
   "execution_count": null,
   "metadata": {},
   "outputs": [],
   "source": [
    "import laspy\n",
    "#import lasio"
   ]
  },
  {
   "cell_type": "code",
   "execution_count": null,
   "metadata": {},
   "outputs": [],
   "source": [
    "#filename = './data/Elevation/SNIPT-20190528-509330S-20.laz'\n",
    "#filename = './data/Elevation/SNIPT-20190528-509330S-20.las'\n",
    "filename = './data/Elevation/SNIPT-20190513-224523A-20.laz'\n",
    "las = laspy.read(filename)    \n",
    "\n",
    "print (las)"
   ]
  },
  {
   "cell_type": "code",
   "execution_count": null,
   "metadata": {},
   "outputs": [],
   "source": [
    "with laspy.open(filename) as f:\n",
    "    print(f\"Point format:       {f.header.point_format}\")\n",
    "    print(f\"Number of points:   {f.header.point_count:,}\")\n",
    "    print(f\"Number of vlrs:     {len(f.header.vlrs)}\")"
   ]
  },
  {
   "cell_type": "code",
   "execution_count": null,
   "metadata": {},
   "outputs": [],
   "source": [
    "print (list(las.point_format.dimension_names))\n",
    "print (list(las.point_format.extra_dimension_names))\n"
   ]
  },
  {
   "cell_type": "code",
   "execution_count": null,
   "metadata": {},
   "outputs": [],
   "source": []
  },
  {
   "cell_type": "code",
   "execution_count": null,
   "metadata": {},
   "outputs": [],
   "source": []
  },
  {
   "cell_type": "code",
   "execution_count": null,
   "metadata": {},
   "outputs": [],
   "source": []
  }
 ],
 "metadata": {
  "kernelspec": {
   "display_name": "rise",
   "language": "python",
   "name": "python3"
  },
  "language_info": {
   "codemirror_mode": {
    "name": "ipython",
    "version": 3
   },
   "file_extension": ".py",
   "mimetype": "text/x-python",
   "name": "python",
   "nbconvert_exporter": "python",
   "pygments_lexer": "ipython3",
   "version": "3.9.12 (main, Apr  4 2022, 05:22:27) [MSC v.1916 64 bit (AMD64)]"
  },
  "orig_nbformat": 4,
  "vscode": {
   "interpreter": {
    "hash": "32dd9f3de737dd316105e68fd0c0ea8933bebcd968e492d0e0ab7a4523c00b7d"
   }
  }
 },
 "nbformat": 4,
 "nbformat_minor": 2
}
